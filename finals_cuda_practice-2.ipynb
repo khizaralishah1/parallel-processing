{
  "nbformat": 4,
  "nbformat_minor": 0,
  "metadata": {
    "colab": {
      "provenance": [],
      "gpuType": "T4"
    },
    "kernelspec": {
      "name": "python3",
      "display_name": "Python 3"
    },
    "language_info": {
      "name": "python"
    },
    "accelerator": "GPU"
  },
  "cells": [
    {
      "cell_type": "code",
      "execution_count": 1,
      "metadata": {
        "colab": {
          "base_uri": "https://localhost:8080/"
        },
        "id": "yl9r8lm3o5C4",
        "outputId": "df433384-8255-4acf-b1f1-f87a06ebc27c"
      },
      "outputs": [
        {
          "output_type": "stream",
          "name": "stdout",
          "text": [
            "nvcc: NVIDIA (R) Cuda compiler driver\n",
            "Copyright (c) 2005-2023 NVIDIA Corporation\n",
            "Built on Tue_Aug_15_22:02:13_PDT_2023\n",
            "Cuda compilation tools, release 12.2, V12.2.140\n",
            "Build cuda_12.2.r12.2/compiler.33191640_0\n"
          ]
        }
      ],
      "source": [
        "!nvcc --version"
      ]
    },
    {
      "cell_type": "code",
      "source": [
        "!pip install git+https://github.com/andreinechaev/nvcc4jupyter.git\n"
      ],
      "metadata": {
        "colab": {
          "base_uri": "https://localhost:8080/"
        },
        "id": "bRM2sgOjqjXF",
        "outputId": "78c613c5-e20a-43e6-ed5d-f113ae534880"
      },
      "execution_count": 2,
      "outputs": [
        {
          "output_type": "stream",
          "name": "stdout",
          "text": [
            "Collecting git+https://github.com/andreinechaev/nvcc4jupyter.git\n",
            "  Cloning https://github.com/andreinechaev/nvcc4jupyter.git to /tmp/pip-req-build-4xp3dhyx\n",
            "  Running command git clone --filter=blob:none --quiet https://github.com/andreinechaev/nvcc4jupyter.git /tmp/pip-req-build-4xp3dhyx\n",
            "  Resolved https://github.com/andreinechaev/nvcc4jupyter.git to commit 0d2ab99cccbbc682722e708515fe9c4cfc50185a\n",
            "  Preparing metadata (setup.py) ... \u001b[?25l\u001b[?25hdone\n",
            "Building wheels for collected packages: NVCCPlugin\n",
            "  Building wheel for NVCCPlugin (setup.py) ... \u001b[?25l\u001b[?25hdone\n",
            "  Created wheel for NVCCPlugin: filename=NVCCPlugin-0.0.2-py3-none-any.whl size=4716 sha256=6a32d7dc7bfdc63443a2ac81d5242db6672f923691f286cdeaf961d2341dbe11\n",
            "  Stored in directory: /tmp/pip-ephem-wheel-cache-odp800hg/wheels/a8/b9/18/23f8ef71ceb0f63297dd1903aedd067e6243a68ea756d6feea\n",
            "Successfully built NVCCPlugin\n",
            "Installing collected packages: NVCCPlugin\n",
            "Successfully installed NVCCPlugin-0.0.2\n"
          ]
        }
      ]
    },
    {
      "cell_type": "code",
      "source": [
        "%load_ext nvcc_plugin"
      ],
      "metadata": {
        "colab": {
          "base_uri": "https://localhost:8080/"
        },
        "id": "qwQ6sMNqrHVo",
        "outputId": "50943346-5eb9-49f3-aced-ce3e77049e68"
      },
      "execution_count": 3,
      "outputs": [
        {
          "output_type": "stream",
          "name": "stdout",
          "text": [
            "created output directory at /content/src\n",
            "Out bin /content/result.out\n"
          ]
        }
      ]
    },
    {
      "cell_type": "code",
      "source": [
        "%%cu\n",
        "#include <stdio.h>\n",
        "#include <string.h>\n",
        "#include <stdlib.h>\n",
        "\n",
        "__global__ void vecAdd (float* a, float* b, float* c, int n) {\n",
        "\n",
        "    int i = threadIdx.x + blockDim.x * blockIdx.x;\n",
        "\n",
        "    if (i < n) {\n",
        "        c[i] = a[i] + b[i];\n",
        "    }\n",
        "}\n",
        "\n",
        "int main() {\n",
        "\n",
        "    printf(\"Start\\n\");\n",
        "    int n = 5;\n",
        "\n",
        "    int size = n * sizeof(float);\n",
        "\n",
        "    float a_h[] = {1, 2, 3, 4, 5};\n",
        "    float b_h[] = {1, 2, 3, 4, 5};\n",
        "    float* c_h  = (float*)malloc(size);\n",
        "\n",
        "    float* a_d;\n",
        "    float* b_d;\n",
        "    float* c_d;\n",
        "\n",
        "    cudaMalloc((void**) &a_d, size);\n",
        "    cudaMalloc((void**) &b_d, size);\n",
        "    cudaMalloc((void**) &c_d, size);\n",
        "\n",
        "    cudaMemcpy(a_d, a_h, size, cudaMemcpyHostToDevice);\n",
        "    cudaMemcpy(b_d, b_h, size, cudaMemcpyHostToDevice);\n",
        "    //# cudaMemcpy(c_d, c_h, size, cudaMemcpyHostToDevice); unnecessary\n",
        "\n",
        "    vecAdd <<< ceil(n / 256.0), 256 >>> (a_d, b_d, c_d, n);\n",
        "\n",
        "    cudaMemcpy(c_h, c_d, size, cudaMemcpyDeviceToHost);\n",
        "\n",
        "    for(int i=0; i<n; ++i) {\n",
        "        printf(\"%f \", a_h[i]);\n",
        "    }\n",
        "    printf(\"\\n\");\n",
        "    for(int i=0; i<n; ++i) {\n",
        "        printf(\"%f \", b_h[i]);\n",
        "    }\n",
        "    printf(\"\\n\");\n",
        "    for(int i=0; i<n; ++i) {\n",
        "        printf(\"%f \", c_h[i]);\n",
        "    }\n",
        "    printf(\"\\n\");\n",
        "\n",
        "    cudaFree(a_d);\n",
        "    cudaFree(b_d);\n",
        "    cudaFree(c_d);\n",
        "    free(c_h);\n",
        "\n",
        "    return 0;\n",
        "\n",
        "}"
      ],
      "metadata": {
        "colab": {
          "base_uri": "https://localhost:8080/"
        },
        "id": "J-wYujnmraQc",
        "outputId": "cf801be3-e4ab-46b2-f35c-471845c68a57"
      },
      "execution_count": 8,
      "outputs": [
        {
          "output_type": "stream",
          "name": "stdout",
          "text": [
            "Start\n",
            "1.000000 2.000000 3.000000 4.000000 5.000000 \n",
            "1.000000 2.000000 3.000000 4.000000 5.000000 \n",
            "2.000000 4.000000 6.000000 8.000000 10.000000 \n",
            "\n"
          ]
        }
      ]
    }
  ]
}