{
  "nbformat": 4,
  "nbformat_minor": 0,
  "metadata": {
    "colab": {
      "provenance": [],
      "gpuType": "T4"
    },
    "kernelspec": {
      "name": "python3",
      "display_name": "Python 3"
    },
    "language_info": {
      "name": "python"
    },
    "accelerator": "GPU"
  },
  "cells": [
    {
      "cell_type": "code",
      "execution_count": null,
      "metadata": {
        "colab": {
          "base_uri": "https://localhost:8080/"
        },
        "id": "yl9r8lm3o5C4",
        "outputId": "681b9c6c-8dc8-4522-a19d-8434e921d74c"
      },
      "outputs": [
        {
          "output_type": "stream",
          "name": "stdout",
          "text": [
            "nvcc: NVIDIA (R) Cuda compiler driver\n",
            "Copyright (c) 2005-2023 NVIDIA Corporation\n",
            "Built on Tue_Aug_15_22:02:13_PDT_2023\n",
            "Cuda compilation tools, release 12.2, V12.2.140\n",
            "Build cuda_12.2.r12.2/compiler.33191640_0\n"
          ]
        }
      ],
      "source": [
        "!nvcc --version"
      ]
    },
    {
      "cell_type": "code",
      "source": [
        "!pip install git+https://github.com/andreinechaev/nvcc4jupyter.git\n"
      ],
      "metadata": {
        "colab": {
          "base_uri": "https://localhost:8080/"
        },
        "id": "bRM2sgOjqjXF",
        "outputId": "12a5be49-6842-4430-fdc1-bb225a22b98a"
      },
      "execution_count": null,
      "outputs": [
        {
          "output_type": "stream",
          "name": "stdout",
          "text": [
            "Collecting git+https://github.com/andreinechaev/nvcc4jupyter.git\n",
            "  Cloning https://github.com/andreinechaev/nvcc4jupyter.git to /tmp/pip-req-build-0s06aji1\n",
            "  Running command git clone --filter=blob:none --quiet https://github.com/andreinechaev/nvcc4jupyter.git /tmp/pip-req-build-0s06aji1\n",
            "  Resolved https://github.com/andreinechaev/nvcc4jupyter.git to commit 0d2ab99cccbbc682722e708515fe9c4cfc50185a\n",
            "  Preparing metadata (setup.py) ... \u001b[?25l\u001b[?25hdone\n",
            "Building wheels for collected packages: NVCCPlugin\n",
            "  Building wheel for NVCCPlugin (setup.py) ... \u001b[?25l\u001b[?25hdone\n",
            "  Created wheel for NVCCPlugin: filename=NVCCPlugin-0.0.2-py3-none-any.whl size=4716 sha256=e2a73928d23934aebada905a7345abd21834044ddf4ce3186c77b2a559fb5d69\n",
            "  Stored in directory: /tmp/pip-ephem-wheel-cache-w9pk2v__/wheels/a8/b9/18/23f8ef71ceb0f63297dd1903aedd067e6243a68ea756d6feea\n",
            "Successfully built NVCCPlugin\n",
            "Installing collected packages: NVCCPlugin\n",
            "Successfully installed NVCCPlugin-0.0.2\n"
          ]
        }
      ]
    },
    {
      "cell_type": "code",
      "source": [
        "%load_ext nvcc_plugin"
      ],
      "metadata": {
        "colab": {
          "base_uri": "https://localhost:8080/"
        },
        "id": "qwQ6sMNqrHVo",
        "outputId": "0679d73e-9e90-41bc-cfa7-e92941977ba3"
      },
      "execution_count": null,
      "outputs": [
        {
          "output_type": "stream",
          "name": "stdout",
          "text": [
            "The nvcc_plugin extension is already loaded. To reload it, use:\n",
            "  %reload_ext nvcc_plugin\n"
          ]
        }
      ]
    },
    {
      "cell_type": "code",
      "source": [
        "%%cu\n",
        "#include <stdio.h>\n",
        "\n",
        "__global__ void vecAdd (float* a, float* b, float* c, int n) {\n",
        "\n",
        "    int i = threadIdx.x + blockDim.x * blockIdx.x;\n",
        "\n",
        "    if (i < n) {\n",
        "        c[i] = a[i] + b[i];\n",
        "    }\n",
        "}\n",
        "\n",
        "\n",
        "%%cu\n",
        "int main() {\n",
        "    int n = 5;\n",
        "\n",
        "    int size = n * sizeof(float);\n",
        "\n",
        "    float* a_h = {1, 2, 3, 4, 5};\n",
        "    float* b_h = {1, 2, 3, 4, 5};\n",
        "    float* c_h = (float*) malloc(size);\n",
        "\n",
        "    float *a_d;\n",
        "    float *b_d;\n",
        "    float *c_d;\n",
        "\n",
        "    cudaMalloc((void**) &a_d, size);\n",
        "    cudaMalloc((void**) &b_d, size);\n",
        "    cudaMalloc((void**) &c_d, size);\n",
        "\n",
        "    cudaMemcpy(a_d, a_h, size, cudaMemcpyHostToDevice);\n",
        "    cudaMemcpy(b_d, b_h, size, cudaMemcpyHostToDevice);\n",
        "    cudaMemcpy(c_d, c_h, size, cudaMemcpyHostToDevice);\n",
        "\n",
        "    vecAdd <<< ceil(n / 256.0), 256 >> (a_d, b_d, c_d, n);\n",
        "\n",
        "    cudaMemcpy(c_h, c_d, size, cudaMemcpyDeviceToHost);\n",
        "\n",
        "    for(int i=0; i<n; ++i) {\n",
        "        printf(\"%f \", c_h[i]);\n",
        "    }\n",
        "\n",
        "    cudaFree(a_d);\n",
        "    cudaFree(b_d);\n",
        "    cudaFree(c_d);\n",
        "\n",
        "    return 0;\n",
        "}"
      ],
      "metadata": {
        "colab": {
          "base_uri": "https://localhost:8080/"
        },
        "id": "J-wYujnmraQc",
        "outputId": "ef58b9d2-86cd-4f9b-aa74-c4f72899bb9b"
      },
      "execution_count": 10,
      "outputs": [
        {
          "output_type": "stream",
          "name": "stderr",
          "text": [
            "UsageError: Cell magic `%%cu` not found.\n"
          ]
        }
      ]
    }
  ]
}